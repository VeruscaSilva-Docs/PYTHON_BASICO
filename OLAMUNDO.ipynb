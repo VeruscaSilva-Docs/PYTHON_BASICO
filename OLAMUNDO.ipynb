{
  "nbformat": 4,
  "nbformat_minor": 0,
  "metadata": {
    "colab": {
      "provenance": [],
      "authorship_tag": "ABX9TyO/YjAbXKevUiZxAdG1pB/S",
      "include_colab_link": true
    },
    "kernelspec": {
      "name": "python3",
      "display_name": "Python 3"
    },
    "language_info": {
      "name": "python"
    }
  },
  "cells": [
    {
      "cell_type": "markdown",
      "metadata": {
        "id": "view-in-github",
        "colab_type": "text"
      },
      "source": [
        "<a href=\"https://colab.research.google.com/github/VeruscaSilva-Docs/PYTHON_BASICO/blob/main/OLAMUNDO.ipynb\" target=\"_parent\"><img src=\"https://colab.research.google.com/assets/colab-badge.svg\" alt=\"Open In Colab\"/></a>"
      ]
    },
    {
      "cell_type": "markdown",
      "source": [
        "#Esse é o meu primeiro programa no Google colab"
      ],
      "metadata": {
        "id": "0d7biSaGYlQI"
      }
    },
    {
      "cell_type": "code",
      "source": [
        "print(\"olá mundo\")"
      ],
      "metadata": {
        "colab": {
          "base_uri": "https://localhost:8080/"
        },
        "id": "SNciSXKqYpP-",
        "outputId": "1747494a-d399-4bfc-a976-c7707ce92e90"
      },
      "execution_count": null,
      "outputs": [
        {
          "output_type": "stream",
          "name": "stdout",
          "text": [
            "olá mundo\n"
          ]
        }
      ]
    },
    {
      "cell_type": "code",
      "source": [
        "print(\"Esse é meu primeiro programa em python kkkkkk\")"
      ],
      "metadata": {
        "colab": {
          "base_uri": "https://localhost:8080/"
        },
        "id": "-DCjkbzoYz03",
        "outputId": "0b8ff6e0-96c1-419a-e28d-2e667b7db9bc"
      },
      "execution_count": null,
      "outputs": [
        {
          "output_type": "stream",
          "name": "stdout",
          "text": [
            "Esse é meu primeiro programa em python kkkkkk\n"
          ]
        }
      ]
    }
  ]
}