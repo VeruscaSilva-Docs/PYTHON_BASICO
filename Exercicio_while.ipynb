{
  "nbformat": 4,
  "nbformat_minor": 0,
  "metadata": {
    "colab": {
      "provenance": [],
      "authorship_tag": "ABX9TyP/e5v6xbVEEY9zQHuKxSxB",
      "include_colab_link": true
    },
    "kernelspec": {
      "name": "python3",
      "display_name": "Python 3"
    },
    "language_info": {
      "name": "python"
    }
  },
  "cells": [
    {
      "cell_type": "markdown",
      "metadata": {
        "id": "view-in-github",
        "colab_type": "text"
      },
      "source": [
        "<a href=\"https://colab.research.google.com/github/VeruscaSilva-Docs/PYTHON_BASICO/blob/main/Exercicio_while.ipynb\" target=\"_parent\"><img src=\"https://colab.research.google.com/assets/colab-badge.svg\" alt=\"Open In Colab\"/></a>"
      ]
    },
    {
      "cell_type": "markdown",
      "source": [],
      "metadata": {
        "id": "uA-9QKgo5mLI"
      }
    },
    {
      "cell_type": "markdown",
      "source": [
        "Faça um, programa que calcule o fatorial de um numero pelo usuario .Exemplo ,cinco fatorial 5! =5*4*3*2*1.\n",
        "\n",
        "\n",
        "\n"
      ],
      "metadata": {
        "id": "7guhfKlf5o2k"
      }
    },
    {
      "cell_type": "code",
      "execution_count": 4,
      "metadata": {
        "colab": {
          "base_uri": "https://localhost:8080/"
        },
        "id": "7exxS-ON5fth",
        "outputId": "34adff1e-4687-4635-a239-afa77c5a0ebb"
      },
      "outputs": [
        {
          "output_type": "stream",
          "name": "stdout",
          "text": [
            "digite um numero6\n",
            "720\n"
          ]
        }
      ],
      "source": [
        "numero=int(input(\"digite um numero\"))\n",
        "fatorial=numero\n",
        "while numero>=2:\n",
        "  numero=numero-1\n",
        "  fatorial=fatorial*numero\n",
        "print(fatorial)"
      ]
    },
    {
      "cell_type": "markdown",
      "source": [
        "vamos fazer um programa que simule um cofre .Ele tera uma senha predefinida eo usuario terá  tres tentativas para acerta a senha a cada tentativa errada o programa devera mostrar a mensagem :Senha incorreta.Tente novamente Se ele acertar a senha o programa devera mostrar:senha incorreta.Acesso concedido"
      ],
      "metadata": {
        "id": "ueUCMJUr6HNR"
      }
    },
    {
      "cell_type": "code",
      "source": [
        "senha='0000'\n",
        "tentativas=3\n",
        "\n",
        "while tentativas!=0:\n",
        "  tentativa= input(\"Digite uma senha numerica de quatro digitos\")\n",
        "\n",
        "  if tentativa== senha:\n",
        "    print(\"senha correta .Acesso concedido\")\n",
        "    break\n",
        "\n",
        "  else:\n",
        "    print(\"senha incorreta. tente novamente\")\n",
        "    tentativas=tentativas-1\n",
        ""
      ],
      "metadata": {
        "colab": {
          "base_uri": "https://localhost:8080/"
        },
        "id": "Dm1zxeys6F1N",
        "outputId": "6b6f7fbe-b025-41b2-9307-41dc0cb75a1d"
      },
      "execution_count": 5,
      "outputs": [
        {
          "output_type": "stream",
          "name": "stdout",
          "text": [
            "Digite uma senha numerica de quatro digitos6789\n",
            "senha incorreta. tente novamente\n",
            "Digite uma senha numerica de quatro digitos0000\n",
            "senha correta .Acesso concedido\n"
          ]
        }
      ]
    }
  ]
}