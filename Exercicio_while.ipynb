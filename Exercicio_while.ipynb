{
  "nbformat": 4,
  "nbformat_minor": 0,
  "metadata": {
    "colab": {
      "provenance": [],
      "authorship_tag": "ABX9TyN9+n1PSyhqB8eaZ4oe7NCr",
      "include_colab_link": true
    },
    "kernelspec": {
      "name": "python3",
      "display_name": "Python 3"
    },
    "language_info": {
      "name": "python"
    }
  },
  "cells": [
    {
      "cell_type": "markdown",
      "metadata": {
        "id": "view-in-github",
        "colab_type": "text"
      },
      "source": [
        "<a href=\"https://colab.research.google.com/github/VeruscaSilva-Docs/PYTHON_BASICO/blob/main/Exercicio_while.ipynb\" target=\"_parent\"><img src=\"https://colab.research.google.com/assets/colab-badge.svg\" alt=\"Open In Colab\"/></a>"
      ]
    },
    {
      "cell_type": "markdown",
      "source": [],
      "metadata": {
        "id": "uA-9QKgo5mLI"
      }
    },
    {
      "cell_type": "markdown",
      "source": [
        "Faça u, programa que calcule o fatorial de um numero pelo usuario .Exemplo ,cinco fatorial 5! =5*4*3*2*1.\n",
        "\n",
        "\n",
        "\n"
      ],
      "metadata": {
        "id": "7guhfKlf5o2k"
      }
    },
    {
      "cell_type": "code",
      "execution_count": null,
      "metadata": {
        "id": "7exxS-ON5fth"
      },
      "outputs": [],
      "source": []
    },
    {
      "cell_type": "markdown",
      "source": [
        "vamos fazer um programa que simule um cofre .Ele tera uma senha predefinida eo usuario terá  tres tentativas para acerta a senha a cada tentativa errada o programa devera mostrar a mensagem :Senha incorreta.Tente novamente Se ele acertar a senha o programa devera mostrar:senha incorreta.Acesso concedido"
      ],
      "metadata": {
        "id": "ueUCMJUr6HNR"
      }
    },
    {
      "cell_type": "code",
      "source": [],
      "metadata": {
        "id": "Dm1zxeys6F1N"
      },
      "execution_count": null,
      "outputs": []
    }
  ]
}