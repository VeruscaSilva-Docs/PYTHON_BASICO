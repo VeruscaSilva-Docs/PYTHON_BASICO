{
  "nbformat": 4,
  "nbformat_minor": 0,
  "metadata": {
    "colab": {
      "provenance": [],
      "authorship_tag": "ABX9TyOKejK2Bh/JTrSa1CCsaQ/d",
      "include_colab_link": true
    },
    "kernelspec": {
      "name": "python3",
      "display_name": "Python 3"
    },
    "language_info": {
      "name": "python"
    }
  },
  "cells": [
    {
      "cell_type": "markdown",
      "metadata": {
        "id": "view-in-github",
        "colab_type": "text"
      },
      "source": [
        "<a href=\"https://colab.research.google.com/github/VeruscaSilva-Docs/PYTHON_BASICO/blob/main/exercicio1_python.ipynb\" target=\"_parent\"><img src=\"https://colab.research.google.com/assets/colab-badge.svg\" alt=\"Open In Colab\"/></a>"
      ]
    },
    {
      "cell_type": "markdown",
      "source": [
        "**Calcule a soma dos numeros do 10 ao 14**"
      ],
      "metadata": {
        "id": "hJCJZuYsqROH"
      }
    },
    {
      "cell_type": "code",
      "source": [
        "soma=sum([10,11,12,13,14])\n",
        "soma"
      ],
      "metadata": {
        "colab": {
          "base_uri": "https://localhost:8080/"
        },
        "id": "KW7SkHYZtZMS",
        "outputId": "b108fd8f-c229-4c5c-e01c-2cfdebdef9fa"
      },
      "execution_count": null,
      "outputs": [
        {
          "output_type": "execute_result",
          "data": {
            "text/plain": [
              "60"
            ]
          },
          "metadata": {},
          "execution_count": 1
        }
      ]
    },
    {
      "cell_type": "markdown",
      "source": [
        "**Calcule a média entre os numeros 10,15,20**"
      ],
      "metadata": {
        "id": "y3eNc1E7qai_"
      }
    },
    {
      "cell_type": "code",
      "source": [
        "numero1=10\n",
        "numero2=15\n",
        "numero3=20\n",
        "\n",
        "media=(numero1+numero2+numero3/3)\n",
        "media"
      ],
      "metadata": {
        "colab": {
          "base_uri": "https://localhost:8080/"
        },
        "id": "pVEePy1itYl8",
        "outputId": "63b71faa-6322-4e8a-f33a-15099f635338"
      },
      "execution_count": null,
      "outputs": [
        {
          "output_type": "execute_result",
          "data": {
            "text/plain": [
              "31.666666666666668"
            ]
          },
          "metadata": {},
          "execution_count": 2
        }
      ]
    },
    {
      "cell_type": "markdown",
      "source": [
        "**Peça para o usuário digitar duas notas de zero a dez eos pasos das notas e**\n",
        "\n",
        "**calcule a édia ponderada entre elas**\n",
        "\n",
        "**Exemplo: media(nota1*peso1+nota2*peso2)/(peso1+peso2)**\n",
        "\n",
        "**Lembrando que a soma dos pesos precisa ser dez.**"
      ],
      "metadata": {
        "id": "y9OYo12eqyb-"
      }
    },
    {
      "cell_type": "code",
      "source": [
        "print(\"digite a primeira nota\")\n",
        "nota1 =float(input())\n",
        "print(\"Digite o peso da nota\")\n",
        "peso1=float(input())\n",
        "print(\"digite a primeira nota\")\n",
        "nota2 =float(input())\n",
        "print(\"Digite o peso da segunda nota\")\n",
        "peso2=float(input())\n",
        "media_ponderada = (nota1 * peso1 + nota2 * peso2) / (peso1 + peso2)\n",
        "print(\"A média ponderada é:\", media_ponderada)"
      ],
      "metadata": {
        "colab": {
          "base_uri": "https://localhost:8080/"
        },
        "id": "Tzn3rvWFroiJ",
        "outputId": "685edfdc-f8fc-4ea3-9ce1-6ae0cac032ea"
      },
      "execution_count": null,
      "outputs": [
        {
          "output_type": "stream",
          "name": "stdout",
          "text": [
            "digite a primeira nota\n",
            "7\n",
            "Digite o peso da nota\n",
            "8\n",
            "digite a primeira nota\n",
            "9\n",
            "Digite o peso da segunda nota\n",
            "5\n",
            "A média ponderada é: 7.769230769230769\n"
          ]
        }
      ]
    },
    {
      "cell_type": "markdown",
      "source": [
        "**Qual o menor preço dessa lista?**\n",
        "**preços:R$100.20,R$34.90,R$31.51,R$18.95**"
      ],
      "metadata": {
        "id": "s8suYLRaspRd"
      }
    },
    {
      "cell_type": "code",
      "source": [
        "lista_minima = min(100.20,34.90,31.51,18.95)\n",
        "print(\"O menor preço é:\",lista_minima)"
      ],
      "metadata": {
        "colab": {
          "base_uri": "https://localhost:8080/"
        },
        "id": "7Eld7tgatMHN",
        "outputId": "558b6d1a-8521-4a26-ca32-ffa8aaecd374"
      },
      "execution_count": null,
      "outputs": [
        {
          "output_type": "stream",
          "name": "stdout",
          "text": [
            "O menor preço é: 18.95\n"
          ]
        }
      ]
    },
    {
      "cell_type": "markdown",
      "source": [
        "Avalie se o numero digitado pelo usuario e par ou impar.se for par a saida deve mostra TRUE,se impar devera mostrar False."
      ],
      "metadata": {
        "id": "JXtBxxrmg84u"
      }
    },
    {
      "cell_type": "code",
      "source": [
        "print(\"Digite um número:\")\n",
        "numero = int(input())\n",
        "\n",
        "if numero % 2 == 0:\n",
        "    print(\"True\")\n",
        "else:\n",
        "    print(\"False\")"
      ],
      "metadata": {
        "id": "eH3eA7Egh5R0",
        "colab": {
          "base_uri": "https://localhost:8080/"
        },
        "outputId": "cbee5245-da78-4da0-8eef-7ffca64397aa"
      },
      "execution_count": 6,
      "outputs": [
        {
          "output_type": "stream",
          "name": "stdout",
          "text": [
            "Digite um número:\n",
            "9\n",
            "False\n"
          ]
        }
      ]
    },
    {
      "cell_type": "markdown",
      "source": [
        "Verifique se o menor preço dessa lista e menor que R$ 20,00\n",
        "preços R$100.20, R$ 34.90, R$ 31.51, R$18.95"
      ],
      "metadata": {
        "id": "0amiMAROh7jg"
      }
    },
    {
      "cell_type": "code",
      "source": [
        "lista_precos = [100.20, 34.90, 31.51, 18.95]\n",
        "menor_preco = min(lista_precos)\n",
        "menor_preco < 20\n",
        "\n"
      ],
      "metadata": {
        "colab": {
          "base_uri": "https://localhost:8080/"
        },
        "id": "VVf6b2nmf1LG",
        "outputId": "7cfcb60e-ab66-4759-c2a6-12df6d831d98"
      },
      "execution_count": 5,
      "outputs": [
        {
          "output_type": "execute_result",
          "data": {
            "text/plain": [
              "True"
            ]
          },
          "metadata": {},
          "execution_count": 5
        }
      ]
    },
    {
      "cell_type": "markdown",
      "source": [
        "\n",
        "Faça um programa que converta a temperatura de graus fahrenheit fornecida pelo\n",
        " usuario em graus Celsius. celsius = (5/9)*(fahrenheit - 32)"
      ],
      "metadata": {
        "id": "-5uRNI8ai9AY"
      }
    },
    {
      "cell_type": "code",
      "source": [
        "print(\"Digite a temperatura em graus Fahrenheit:\")\n",
        "fahrenheit = float(input())\n",
        "\n",
        "celsius = (5/9) * (fahrenheit - 32)\n",
        "\n",
        "print(\"A temperatura em graus Celsius é:\", celsius)\n"
      ],
      "metadata": {
        "id": "pRGshEPljtGQ",
        "colab": {
          "base_uri": "https://localhost:8080/"
        },
        "outputId": "6489e616-c42c-4e35-ad90-6b7e072a6396"
      },
      "execution_count": 7,
      "outputs": [
        {
          "output_type": "stream",
          "name": "stdout",
          "text": [
            "Digite a temperatura em graus Fahrenheit:\n",
            "56\n",
            "A temperatura em graus Celsius é: 13.333333333333334\n"
          ]
        }
      ]
    }
  ]
}