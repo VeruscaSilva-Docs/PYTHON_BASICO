{
  "nbformat": 4,
  "nbformat_minor": 0,
  "metadata": {
    "colab": {
      "provenance": [],
      "authorship_tag": "ABX9TyOBPEoRDOAECBmw3lBhDm6V",
      "include_colab_link": true
    },
    "kernelspec": {
      "name": "python3",
      "display_name": "Python 3"
    },
    "language_info": {
      "name": "python"
    }
  },
  "cells": [
    {
      "cell_type": "markdown",
      "metadata": {
        "id": "view-in-github",
        "colab_type": "text"
      },
      "source": [
        "<a href=\"https://colab.research.google.com/github/VeruscaSilva-Docs/PYTHON_BASICO/blob/main/Exercicio_While.ipynb\" target=\"_parent\"><img src=\"https://colab.research.google.com/assets/colab-badge.svg\" alt=\"Open In Colab\"/></a>"
      ]
    },
    {
      "cell_type": "markdown",
      "source": [
        "Faã um programa que calcule o fatorial de um numero ,fornecido pelo usuario  exemplo 5! = 5* 4 * 3 * 2* 1"
      ],
      "metadata": {
        "id": "CX7xN9YBIDQQ"
      }
    },
    {
      "cell_type": "code",
      "execution_count": 1,
      "metadata": {
        "colab": {
          "base_uri": "https://localhost:8080/"
        },
        "id": "gaauDY1vH8A6",
        "outputId": "e2303ab2-7fb2-446a-fa7b-feae71f444df"
      },
      "outputs": [
        {
          "output_type": "stream",
          "name": "stdout",
          "text": [
            "Digite  um numero inteiro5\n",
            "120\n"
          ]
        }
      ],
      "source": [
        "numero = int(input('Digite  um numero inteiro'))\n",
        "fatorial = numero\n",
        "while numero > 1:\n",
        "  numero = numero - 1\n",
        "  fatorial = fatorial * numero\n",
        "print(fatorial)"
      ]
    },
    {
      "cell_type": "code",
      "source": [
        "numero = int(input('Digite  um numero inteiro'))\n",
        "fatorial = numero\n",
        "while numero >= 2:\n",
        " fatorial = fatorial * (numero - 1)\n",
        " numero = numero - 1\n",
        "print(fatorial)"
      ],
      "metadata": {
        "colab": {
          "base_uri": "https://localhost:8080/"
        },
        "id": "cy02VgPfKcEj",
        "outputId": "692c9d32-b409-43fb-a091-88b3eedf3c0f"
      },
      "execution_count": 2,
      "outputs": [
        {
          "output_type": "stream",
          "name": "stdout",
          "text": [
            "Digite  um numero inteiro5\n",
            "120\n"
          ]
        }
      ]
    },
    {
      "cell_type": "markdown",
      "source": [
        "vamos fazer um programa que simule um cofre .Ele tera uma senha predefinida eo usuario tera 3 tentativas para caertar a senha  o programa deverá mostrar a mensagem senha incorreta Tente novamente se ele acertar a senha o programa deverà mostrar a mensagem senha correta acesso concedido"
      ],
      "metadata": {
        "id": "RcGjdmMTIiHu"
      }
    },
    {
      "cell_type": "code",
      "source": [
        "senha = '0000'\n",
        "tentativas = 3\n",
        "\n",
        "while tentativas != 0:\n",
        "    tentativa = input('DIGITE A SENHA DE 4 DIGITOS: ')\n",
        "\n",
        "    if tentativa == senha:\n",
        "        print(\"Senha correta! Acesso concedido.\")\n",
        "        break\n",
        "    else:\n",
        "        print(\"Senha incorreta. Tente novamente.\")\n",
        "        tentativas -= 1"
      ],
      "metadata": {
        "colab": {
          "base_uri": "https://localhost:8080/"
        },
        "id": "kpr_pm8mJkEb",
        "outputId": "985d469c-95da-41dd-bb1b-b4dc6c1944e2"
      },
      "execution_count": 8,
      "outputs": [
        {
          "output_type": "stream",
          "name": "stdout",
          "text": [
            "DIGITE A SENHA DE 4 DIGITOS: 4569\n",
            "Senha incorreta. Tente novamente.\n",
            "DIGITE A SENHA DE 4 DIGITOS: 5234\n",
            "Senha incorreta. Tente novamente.\n",
            "DIGITE A SENHA DE 4 DIGITOS: 0000\n",
            "Senha correta! Acesso concedido.\n"
          ]
        }
      ]
    }
  ]
}