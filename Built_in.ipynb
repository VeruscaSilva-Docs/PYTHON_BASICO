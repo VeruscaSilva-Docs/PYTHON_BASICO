{
  "nbformat": 4,
  "nbformat_minor": 0,
  "metadata": {
    "colab": {
      "provenance": [],
      "authorship_tag": "ABX9TyM6EJYX43YDrhMtaMIkeLpT",
      "include_colab_link": true
    },
    "kernelspec": {
      "name": "python3",
      "display_name": "Python 3"
    },
    "language_info": {
      "name": "python"
    }
  },
  "cells": [
    {
      "cell_type": "markdown",
      "metadata": {
        "id": "view-in-github",
        "colab_type": "text"
      },
      "source": [
        "<a href=\"https://colab.research.google.com/github/VeruscaSilva-Docs/PYTHON_BASICO/blob/main/Built_in.ipynb\" target=\"_parent\"><img src=\"https://colab.research.google.com/assets/colab-badge.svg\" alt=\"Open In Colab\"/></a>"
      ]
    },
    {
      "cell_type": "markdown",
      "source": [
        "#**Funções** **Built**-**in**"
      ],
      "metadata": {
        "id": "VSwR68dpsPW4"
      }
    },
    {
      "cell_type": "markdown",
      "source": [
        "São funções nativas do python,nototal temos 68 funções nativas você pode ver uma lista completa de todas elas no link:\n",
        "\n",
        "https://docs.python.org/pt-br/3.6/library/functions.html\n",
        "\n",
        "Vamos estudar algumas:"
      ],
      "metadata": {
        "id": "FyyyEpCTtbxO"
      }
    },
    {
      "cell_type": "markdown",
      "source": [
        "**abs**() ->retorna  o valor absoluto"
      ],
      "metadata": {
        "id": "8RDlD4jMtxyR"
      }
    },
    {
      "cell_type": "code",
      "source": [
        "abs(-9)"
      ],
      "metadata": {
        "colab": {
          "base_uri": "https://localhost:8080/"
        },
        "id": "sWYG3W02sjjm",
        "outputId": "25acb5a9-8424-4d9a-e2bc-1d32889b950c"
      },
      "execution_count": 1,
      "outputs": [
        {
          "output_type": "execute_result",
          "data": {
            "text/plain": [
              "9"
            ]
          },
          "metadata": {},
          "execution_count": 1
        }
      ]
    },
    {
      "cell_type": "markdown",
      "source": [
        "**min**()=> retorna o valor minimo de uma sequencia"
      ],
      "metadata": {
        "id": "9QSsm34st7yc"
      }
    },
    {
      "cell_type": "code",
      "execution_count": null,
      "metadata": {
        "id": "E6dHrIiisJvV"
      },
      "outputs": [],
      "source": []
    },
    {
      "cell_type": "markdown",
      "source": [
        "**max()**=>retorna o valor maximo de uma sequencia"
      ],
      "metadata": {
        "id": "jMT9LUyOuP3z"
      }
    },
    {
      "cell_type": "code",
      "source": [],
      "metadata": {
        "id": "TPYRx3ITufuT"
      },
      "execution_count": null,
      "outputs": []
    },
    {
      "cell_type": "markdown",
      "source": [],
      "metadata": {
        "id": "hg07J-NqugeL"
      }
    },
    {
      "cell_type": "code",
      "source": [],
      "metadata": {
        "id": "5xKfQs8Fwkhy"
      },
      "execution_count": 4,
      "outputs": []
    },
    {
      "cell_type": "code",
      "source": [],
      "metadata": {
        "id": "Q72U8xFjwzKS"
      },
      "execution_count": 6,
      "outputs": []
    },
    {
      "cell_type": "code",
      "source": [],
      "metadata": {
        "id": "So7QYe_Zw4pR"
      },
      "execution_count": 6,
      "outputs": []
    }
  ]
}