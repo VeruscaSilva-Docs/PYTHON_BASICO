{
  "nbformat": 4,
  "nbformat_minor": 0,
  "metadata": {
    "colab": {
      "provenance": [],
      "authorship_tag": "ABX9TyNgCfyT/0hq6U5X4so92pwa",
      "include_colab_link": true
    },
    "kernelspec": {
      "name": "python3",
      "display_name": "Python 3"
    },
    "language_info": {
      "name": "python"
    }
  },
  "cells": [
    {
      "cell_type": "markdown",
      "metadata": {
        "id": "view-in-github",
        "colab_type": "text"
      },
      "source": [
        "<a href=\"https://colab.research.google.com/github/VeruscaSilva-Docs/PYTHON_BASICO/blob/main/Built_in.ipynb\" target=\"_parent\"><img src=\"https://colab.research.google.com/assets/colab-badge.svg\" alt=\"Open In Colab\"/></a>"
      ]
    },
    {
      "cell_type": "markdown",
      "source": [
        "#**Funções** **Built**-**in**"
      ],
      "metadata": {
        "id": "VSwR68dpsPW4"
      }
    },
    {
      "cell_type": "markdown",
      "source": [
        "São funções nativas do python,nototal temos 68 funções nativas você pode ver uma lista completa de todas elas no link:\n",
        "\n",
        "https://docs.python.org/pt-br/3.6/library/functions.html\n",
        "\n",
        "Vamos estudar algumas:"
      ],
      "metadata": {
        "id": "FyyyEpCTtbxO"
      }
    },
    {
      "cell_type": "markdown",
      "source": [
        "**abs**() ->retorna  o valor absoluto"
      ],
      "metadata": {
        "id": "8RDlD4jMtxyR"
      }
    },
    {
      "cell_type": "code",
      "source": [
        "abs(-9)"
      ],
      "metadata": {
        "colab": {
          "base_uri": "https://localhost:8080/"
        },
        "id": "sWYG3W02sjjm",
        "outputId": "25acb5a9-8424-4d9a-e2bc-1d32889b950c"
      },
      "execution_count": null,
      "outputs": [
        {
          "output_type": "execute_result",
          "data": {
            "text/plain": [
              "9"
            ]
          },
          "metadata": {},
          "execution_count": 1
        }
      ]
    },
    {
      "cell_type": "markdown",
      "source": [
        "**min**()=> retorna o valor minimo de uma sequencia"
      ],
      "metadata": {
        "id": "9QSsm34st7yc"
      }
    },
    {
      "cell_type": "code",
      "execution_count": 3,
      "metadata": {
        "id": "E6dHrIiisJvV",
        "colab": {
          "base_uri": "https://localhost:8080/"
        },
        "outputId": "fd8bf5e4-2cad-4118-8005-833ddb1d8e49"
      },
      "outputs": [
        {
          "output_type": "execute_result",
          "data": {
            "text/plain": [
              "0"
            ]
          },
          "metadata": {},
          "execution_count": 3
        }
      ],
      "source": [
        "min (6,4,2,1,0,9)"
      ]
    },
    {
      "cell_type": "code",
      "source": [
        "menorPreco=min(6,4,2,1,0,9)\n",
        "menorPreco"
      ],
      "metadata": {
        "colab": {
          "base_uri": "https://localhost:8080/"
        },
        "id": "fO28NuJxgbpW",
        "outputId": "ef438918-567f-4159-be98-9311ea1f219c"
      },
      "execution_count": 5,
      "outputs": [
        {
          "output_type": "execute_result",
          "data": {
            "text/plain": [
              "0"
            ]
          },
          "metadata": {},
          "execution_count": 5
        }
      ]
    },
    {
      "cell_type": "markdown",
      "source": [
        "**max()**=>retorna o valor maximo de uma sequencia"
      ],
      "metadata": {
        "id": "jMT9LUyOuP3z"
      }
    },
    {
      "cell_type": "code",
      "source": [
        "max (6,4,2,1,0,9)\n",
        "\n"
      ],
      "metadata": {
        "id": "TPYRx3ITufuT",
        "colab": {
          "base_uri": "https://localhost:8080/"
        },
        "outputId": "58688ad5-b333-4408-d37c-e056f4d40776"
      },
      "execution_count": 1,
      "outputs": [
        {
          "output_type": "execute_result",
          "data": {
            "text/plain": [
              "9"
            ]
          },
          "metadata": {},
          "execution_count": 1
        }
      ]
    },
    {
      "cell_type": "code",
      "source": [
        "maiorPreco=max(6,4,2,1,0,9)\n",
        "maiorPreco"
      ],
      "metadata": {
        "colab": {
          "base_uri": "https://localhost:8080/"
        },
        "id": "ZWfVoDnhXMwY",
        "outputId": "0aaf24fe-95ff-412e-dedb-99bfdb9c2b1a"
      },
      "execution_count": 2,
      "outputs": [
        {
          "output_type": "execute_result",
          "data": {
            "text/plain": [
              "9"
            ]
          },
          "metadata": {},
          "execution_count": 2
        }
      ]
    },
    {
      "cell_type": "markdown",
      "source": [
        "**sum()=>** faz a soma dos valores de uma sequencia\n"
      ],
      "metadata": {
        "id": "hg07J-NqugeL"
      }
    },
    {
      "cell_type": "code",
      "source": [
        "somaTotal= sum([1,2,3])\n",
        "somaTotal"
      ],
      "metadata": {
        "id": "5xKfQs8Fwkhy",
        "colab": {
          "base_uri": "https://localhost:8080/"
        },
        "outputId": "4d428a80-5db6-4c51-8b53-ecdd63fe0938"
      },
      "execution_count": 4,
      "outputs": [
        {
          "output_type": "execute_result",
          "data": {
            "text/plain": [
              "6"
            ]
          },
          "metadata": {},
          "execution_count": 4
        }
      ]
    },
    {
      "cell_type": "markdown",
      "source": [
        "**pow()=>** exponenciação"
      ],
      "metadata": {
        "id": "HkIxoJVTfyme"
      }
    },
    {
      "cell_type": "code",
      "source": [
        "2**3"
      ],
      "metadata": {
        "id": "Q72U8xFjwzKS",
        "colab": {
          "base_uri": "https://localhost:8080/"
        },
        "outputId": "216b2d34-69cb-4079-9b8b-b58887072a3c"
      },
      "execution_count": 5,
      "outputs": [
        {
          "output_type": "execute_result",
          "data": {
            "text/plain": [
              "8"
            ]
          },
          "metadata": {},
          "execution_count": 5
        }
      ]
    },
    {
      "cell_type": "code",
      "source": [
        "pow(2,3)"
      ],
      "metadata": {
        "id": "CiiUNh65e0B-",
        "outputId": "629d44bf-ea6f-4d37-adbc-bd5bb7601e29",
        "colab": {
          "base_uri": "https://localhost:8080/"
        }
      },
      "execution_count": 6,
      "outputs": [
        {
          "output_type": "execute_result",
          "data": {
            "text/plain": [
              "8"
            ]
          },
          "metadata": {},
          "execution_count": 6
        }
      ]
    },
    {
      "cell_type": "markdown",
      "source": [
        "**Print()=>** mostra um valor de saida"
      ],
      "metadata": {
        "id": "YVMWqMiVe6n3"
      }
    },
    {
      "cell_type": "code",
      "source": [
        "print(\"esse e um teto maneiro\")"
      ],
      "metadata": {
        "id": "So7QYe_Zw4pR",
        "colab": {
          "base_uri": "https://localhost:8080/"
        },
        "outputId": "6e83b274-88dd-4afa-da01-fad33b262bc1"
      },
      "execution_count": 7,
      "outputs": [
        {
          "output_type": "stream",
          "name": "stdout",
          "text": [
            "esse e um teto maneiro\n"
          ]
        }
      ]
    },
    {
      "cell_type": "code",
      "source": [
        "print(somaTotal)"
      ],
      "metadata": {
        "id": "bX2CODLko8EU",
        "outputId": "a042999c-7276-49e4-9884-3bd4234b2b51",
        "colab": {
          "base_uri": "https://localhost:8080/"
        }
      },
      "execution_count": 8,
      "outputs": [
        {
          "output_type": "stream",
          "name": "stdout",
          "text": [
            "6\n"
          ]
        }
      ]
    },
    {
      "cell_type": "markdown",
      "source": [
        "**INPUT()=>** LÊ UM VALOR DIGITADO NO TECLADO PELO USUARIO"
      ],
      "metadata": {
        "id": "QDNuWB3spE7p"
      }
    },
    {
      "cell_type": "code",
      "source": [
        "nome = input(\"qual e o seu nome? \")"
      ],
      "metadata": {
        "id": "xCXviRQmpQRY",
        "outputId": "b5677bb4-ae46-4ac6-8737-2bce3bf4940b",
        "colab": {
          "base_uri": "https://localhost:8080/"
        }
      },
      "execution_count": 10,
      "outputs": [
        {
          "name": "stdout",
          "output_type": "stream",
          "text": [
            "qual e o seu nome? verusca\n"
          ]
        }
      ]
    },
    {
      "cell_type": "markdown",
      "source": [
        "**help()=>** mostra as funcionalidades de uma determinada função"
      ],
      "metadata": {
        "id": "kSJ5zgYepk14"
      }
    },
    {
      "cell_type": "code",
      "source": [
        "help(min)"
      ],
      "metadata": {
        "id": "4rvniPpJpwAP",
        "outputId": "d2cb0c8c-6a90-4afa-eabd-eb1cc3ad3965",
        "colab": {
          "base_uri": "https://localhost:8080/"
        }
      },
      "execution_count": 11,
      "outputs": [
        {
          "output_type": "stream",
          "name": "stdout",
          "text": [
            "Help on built-in function min in module builtins:\n",
            "\n",
            "min(...)\n",
            "    min(iterable, *[, default=obj, key=func]) -> value\n",
            "    min(arg1, arg2, *args, *[, key=func]) -> value\n",
            "    \n",
            "    With a single iterable argument, return its smallest item. The\n",
            "    default keyword-only argument specifies an object to return if\n",
            "    the provided iterable is empty.\n",
            "    With two or more arguments, return the smallest argument.\n",
            "\n"
          ]
        }
      ]
    }
  ]
}