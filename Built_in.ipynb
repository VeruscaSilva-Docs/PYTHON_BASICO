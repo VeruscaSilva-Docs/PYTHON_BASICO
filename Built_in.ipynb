{
  "nbformat": 4,
  "nbformat_minor": 0,
  "metadata": {
    "colab": {
      "provenance": [],
      "authorship_tag": "ABX9TyOso4IiDYTj1QAKO7bsD8Ev",
      "include_colab_link": true
    },
    "kernelspec": {
      "name": "python3",
      "display_name": "Python 3"
    },
    "language_info": {
      "name": "python"
    }
  },
  "cells": [
    {
      "cell_type": "markdown",
      "metadata": {
        "id": "view-in-github",
        "colab_type": "text"
      },
      "source": [
        "<a href=\"https://colab.research.google.com/github/VeruscaSilva-Docs/PYTHON_BASICO/blob/main/Built_in.ipynb\" target=\"_parent\"><img src=\"https://colab.research.google.com/assets/colab-badge.svg\" alt=\"Open In Colab\"/></a>"
      ]
    },
    {
      "cell_type": "markdown",
      "source": [
        "#**Funções** **Built**-**in**"
      ],
      "metadata": {
        "id": "VSwR68dpsPW4"
      }
    },
    {
      "cell_type": "markdown",
      "source": [
        "São funções nativas do python,nototal temos 68 funções nativas você pode ver uma lista completa de todas elas no link:\n",
        "\n",
        "https://docs.python.org/pt-br/3.6/library/functions.html\n",
        "\n",
        "Vamos estudar algumas:"
      ],
      "metadata": {
        "id": "FyyyEpCTtbxO"
      }
    },
    {
      "cell_type": "markdown",
      "source": [
        "**abs**() ->retorna  o valor absoluto"
      ],
      "metadata": {
        "id": "8RDlD4jMtxyR"
      }
    },
    {
      "cell_type": "code",
      "source": [
        "abs(-9)"
      ],
      "metadata": {
        "colab": {
          "base_uri": "https://localhost:8080/"
        },
        "id": "sWYG3W02sjjm",
        "outputId": "25acb5a9-8424-4d9a-e2bc-1d32889b950c"
      },
      "execution_count": null,
      "outputs": [
        {
          "output_type": "execute_result",
          "data": {
            "text/plain": [
              "9"
            ]
          },
          "metadata": {},
          "execution_count": 1
        }
      ]
    },
    {
      "cell_type": "markdown",
      "source": [
        "**min**()=> retorna o valor minimo de uma sequencia"
      ],
      "metadata": {
        "id": "9QSsm34st7yc"
      }
    },
    {
      "cell_type": "code",
      "execution_count": 3,
      "metadata": {
        "id": "E6dHrIiisJvV",
        "colab": {
          "base_uri": "https://localhost:8080/"
        },
        "outputId": "fd8bf5e4-2cad-4118-8005-833ddb1d8e49"
      },
      "outputs": [
        {
          "output_type": "execute_result",
          "data": {
            "text/plain": [
              "0"
            ]
          },
          "metadata": {},
          "execution_count": 3
        }
      ],
      "source": [
        "min (6,4,2,1,0,9)"
      ]
    },
    {
      "cell_type": "code",
      "source": [
        "menorPreco=min(6,4,2,1,0,9)\n",
        "menorPreco"
      ],
      "metadata": {
        "colab": {
          "base_uri": "https://localhost:8080/"
        },
        "id": "fO28NuJxgbpW",
        "outputId": "ef438918-567f-4159-be98-9311ea1f219c"
      },
      "execution_count": 5,
      "outputs": [
        {
          "output_type": "execute_result",
          "data": {
            "text/plain": [
              "0"
            ]
          },
          "metadata": {},
          "execution_count": 5
        }
      ]
    },
    {
      "cell_type": "markdown",
      "source": [
        "**max()**=>retorna o valor maximo de uma sequencia"
      ],
      "metadata": {
        "id": "jMT9LUyOuP3z"
      }
    },
    {
      "cell_type": "code",
      "source": [
        "max (6,4,2,1,0,9)\n",
        "\n"
      ],
      "metadata": {
        "id": "TPYRx3ITufuT",
        "colab": {
          "base_uri": "https://localhost:8080/"
        },
        "outputId": "58688ad5-b333-4408-d37c-e056f4d40776"
      },
      "execution_count": 1,
      "outputs": [
        {
          "output_type": "execute_result",
          "data": {
            "text/plain": [
              "9"
            ]
          },
          "metadata": {},
          "execution_count": 1
        }
      ]
    },
    {
      "cell_type": "code",
      "source": [
        "maiorPreco=max(6,4,2,1,0,9)\n",
        "maiorPreco"
      ],
      "metadata": {
        "id": "ZWfVoDnhXMwY",
        "outputId": "0aaf24fe-95ff-412e-dedb-99bfdb9c2b1a",
        "colab": {
          "base_uri": "https://localhost:8080/"
        }
      },
      "execution_count": 2,
      "outputs": [
        {
          "output_type": "execute_result",
          "data": {
            "text/plain": [
              "9"
            ]
          },
          "metadata": {},
          "execution_count": 2
        }
      ]
    },
    {
      "cell_type": "markdown",
      "source": [
        "**sum()=>** faz a soma dos valores de uma sequencia\n"
      ],
      "metadata": {
        "id": "hg07J-NqugeL"
      }
    },
    {
      "cell_type": "code",
      "source": [],
      "metadata": {
        "id": "5xKfQs8Fwkhy"
      },
      "execution_count": null,
      "outputs": []
    },
    {
      "cell_type": "markdown",
      "source": [
        "**pow()=>** exponenciação"
      ],
      "metadata": {
        "id": "HkIxoJVTfyme"
      }
    },
    {
      "cell_type": "code",
      "source": [],
      "metadata": {
        "id": "Q72U8xFjwzKS"
      },
      "execution_count": null,
      "outputs": []
    },
    {
      "cell_type": "code",
      "source": [],
      "metadata": {
        "id": "So7QYe_Zw4pR"
      },
      "execution_count": null,
      "outputs": []
    }
  ]
}