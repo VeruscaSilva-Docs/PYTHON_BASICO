{
  "nbformat": 4,
  "nbformat_minor": 0,
  "metadata": {
    "colab": {
      "provenance": [],
      "authorship_tag": "ABX9TyO61WZAm8SbRgj4W7o0zSh1",
      "include_colab_link": true
    },
    "kernelspec": {
      "name": "python3",
      "display_name": "Python 3"
    },
    "language_info": {
      "name": "python"
    }
  },
  "cells": [
    {
      "cell_type": "markdown",
      "metadata": {
        "id": "view-in-github",
        "colab_type": "text"
      },
      "source": [
        "<a href=\"https://colab.research.google.com/github/VeruscaSilva-Docs/PYTHON_BASICO/blob/main/Instru%C3%A7%C3%A3o.ipynb\" target=\"_parent\"><img src=\"https://colab.research.google.com/assets/colab-badge.svg\" alt=\"Open In Colab\"/></a>"
      ]
    },
    {
      "cell_type": "markdown",
      "source": [
        "# Controle de Decisão - Instrução IF"
      ],
      "metadata": {
        "id": "p8K6PSSp0IQW"
      }
    },
    {
      "cell_type": "markdown",
      "source": [
        "A forma mais simples de fazer uma  condição é usar os operadores Booleanos.\n"
      ],
      "metadata": {
        "id": "s3N3c0Oa13LU"
      }
    },
    {
      "cell_type": "markdown",
      "source": [
        "\n",
        "\n",
        "```\n",
        "# if<condição>:\n",
        " <bloco de codigo>\n",
        "<instrução>\n",
        "```\n",
        "\n"
      ],
      "metadata": {
        "id": "FEYmETlL2qRp"
      }
    },
    {
      "cell_type": "markdown",
      "source": [
        "ou\n"
      ],
      "metadata": {
        "id": "VohUDOtN2z-S"
      }
    },
    {
      "cell_type": "markdown",
      "source": [
        "```\n",
        "# if<condição>:\n",
        " <bloco de codigo>\n",
        " elif<condição2>:\n",
        " <bloco de codigo>\n",
        " elif<condição3>:\n",
        " <bloc de codigo>\n",
        "else:\n",
        "<ultimo bloco>\n",
        "<instrução>\n",
        "```\n",
        "\n",
        "\n"
      ],
      "metadata": {
        "id": "32N2en5R22kK"
      }
    },
    {
      "cell_type": "code",
      "execution_count": 8,
      "metadata": {
        "colab": {
          "base_uri": "https://localhost:8080/"
        },
        "id": "g9dEvn7lzMdH",
        "outputId": "9f314f28-491b-4886-aac4-8e2a4dd13975"
      },
      "outputs": [
        {
          "output_type": "stream",
          "name": "stdout",
          "text": [
            "digite uma temperatura26\n",
            "esta frio\n"
          ]
        }
      ],
      "source": [
        "temp =eval(input (\"digite uma temperatura\"))\n",
        "if temp >=40:\n",
        " print(\"está muito quente\")\n",
        "elif temp > 30:\n",
        "  print(\"esta agradavel\")\n",
        "else:\n",
        "  print(\"esta frio\")\n"
      ]
    }
  ]
}