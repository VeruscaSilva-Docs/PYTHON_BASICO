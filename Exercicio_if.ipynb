{
  "nbformat": 4,
  "nbformat_minor": 0,
  "metadata": {
    "colab": {
      "provenance": [],
      "authorship_tag": "ABX9TyPPACqcBMzK8l5QcQ4ElEwm",
      "include_colab_link": true
    },
    "kernelspec": {
      "name": "python3",
      "display_name": "Python 3"
    },
    "language_info": {
      "name": "python"
    }
  },
  "cells": [
    {
      "cell_type": "markdown",
      "metadata": {
        "id": "view-in-github",
        "colab_type": "text"
      },
      "source": [
        "<a href=\"https://colab.research.google.com/github/VeruscaSilva-Docs/PYTHON_BASICO/blob/main/Exercicio_if.ipynb\" target=\"_parent\"><img src=\"https://colab.research.google.com/assets/colab-badge.svg\" alt=\"Open In Colab\"/></a>"
      ]
    },
    {
      "cell_type": "markdown",
      "source": [
        "Faça um programa que recebe do usuario duas notas de zero a dez, e escreve na tela voce esta aprovado.Parabens  se a media das duas notas for maior que sete.\n"
      ],
      "metadata": {
        "id": "rrpfkHwZ3amZ"
      }
    },
    {
      "cell_type": "code",
      "source": [
        "nota1=float(input(\"Digite a primeira nota:\"))\n",
        "nota2=float(input(\" Digite a segunda nota:\"))\n",
        "media=(nota1+nota2)/2\n",
        "if media>7:\n",
        "  print(\"Parabens voce esta aprovado\")\n",
        "else:\n",
        "  print(\"Voce esta reprovado\")\n"
      ],
      "metadata": {
        "colab": {
          "base_uri": "https://localhost:8080/"
        },
        "id": "v7nmau7z4lqp",
        "outputId": "cc88b35d-34da-48b5-975b-56f6455d5a13"
      },
      "execution_count": 1,
      "outputs": [
        {
          "output_type": "stream",
          "name": "stdout",
          "text": [
            "Digite a primeira nota:6\n",
            " Digite a segunda nota:9\n",
            "Parabens voce esta aprovado\n"
          ]
        }
      ]
    },
    {
      "cell_type": "markdown",
      "source": [
        "Faça um programa que recebe do usuario de zero a dez,e escreva na tela voçe está aprovado.Parabéns se amedia das duas for maior ou igual que sete. E você não está aprovado se a media for menor que sete."
      ],
      "metadata": {
        "id": "bwHb2x7L4mr0"
      }
    },
    {
      "cell_type": "code",
      "source": [
        "nota1=float(input(\"Digite a primeira nota:\"))\n",
        "nota2=float(input(\" Digite a segunda nota:\"))\n",
        "media=(nota1+nota2)/2\n",
        "if media>=7:\n",
        "  print(\"Parabens voce esta aprovado sua media e maior que 7\")\n",
        "else:\n",
        "  print(\"Voce esta reprovado sua media e menor que 7\")"
      ],
      "metadata": {
        "colab": {
          "base_uri": "https://localhost:8080/"
        },
        "id": "lLlwKnvd5YQ1",
        "outputId": "74431062-6d19-4fd6-f788-813474579a5c"
      },
      "execution_count": 3,
      "outputs": [
        {
          "output_type": "stream",
          "name": "stdout",
          "text": [
            "Digite a primeira nota:5\n",
            " Digite a segunda nota:5\n",
            "Voce esta reprovado sua media e menor que 7\n"
          ]
        }
      ]
    },
    {
      "cell_type": "markdown",
      "source": [
        "Ainda usando o  exemplo da média, acrescente uma terceira condição se a média for maior ou igual a cinco e menor que  sete escreva na tela  voce está de exame."
      ],
      "metadata": {
        "id": "qo45aNgv5eJg"
      }
    },
    {
      "cell_type": "code",
      "source": [
        "nota1=float(input(\"Digite a primeira nota:\"))\n",
        "nota2=float(input(\" Digite a segunda nota:\"))\n",
        "media=(nota1+nota2)/2\n",
        "if media>=7:\n",
        "  print(f\"Parabens voce esta aprovado sua media e maior que sete media:\",media)\n",
        "elif media >=5 and media < 7:\n",
        "  print(f\"voce está de exame final sua media:\",media)\n",
        "else:\n",
        "  print(f\"Voce esta reprovado sua media e menor que 7 sua media:\",media)"
      ],
      "metadata": {
        "colab": {
          "base_uri": "https://localhost:8080/"
        },
        "id": "7Cg6e3146biv",
        "outputId": "3c630596-1098-4db1-aa60-7c20d8e26d4a"
      },
      "execution_count": 9,
      "outputs": [
        {
          "output_type": "stream",
          "name": "stdout",
          "text": [
            "Digite a primeira nota:6\n",
            " Digite a segunda nota:6\n",
            "voce está de exame final sua media: 6.0\n"
          ]
        }
      ]
    }
  ]
}