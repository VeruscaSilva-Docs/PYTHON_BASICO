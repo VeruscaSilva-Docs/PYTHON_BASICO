{
  "nbformat": 4,
  "nbformat_minor": 0,
  "metadata": {
    "colab": {
      "provenance": [],
      "authorship_tag": "ABX9TyOA1kUKS7qvDq4zj82+ihRu",
      "include_colab_link": true
    },
    "kernelspec": {
      "name": "python3",
      "display_name": "Python 3"
    },
    "language_info": {
      "name": "python"
    }
  },
  "cells": [
    {
      "cell_type": "markdown",
      "metadata": {
        "id": "view-in-github",
        "colab_type": "text"
      },
      "source": [
        "<a href=\"https://colab.research.google.com/github/VeruscaSilva-Docs/PYTHON_BASICO/blob/main/Instru%C3%A7ao_IF.ipynb\" target=\"_parent\"><img src=\"https://colab.research.google.com/assets/colab-badge.svg\" alt=\"Open In Colab\"/></a>"
      ]
    },
    {
      "cell_type": "markdown",
      "source": [
        "CONTROLE DE DECISÇAO -INSTRUÇAO IF\n"
      ],
      "metadata": {
        "id": "9Dd35MFv0Qie"
      }
    },
    {
      "cell_type": "markdown",
      "source": [
        "A forma mais simples de fazer uma condiçao e usar os operadores booleanos"
      ],
      "metadata": {
        "id": "kimfoKXf0mMz"
      }
    },
    {
      "cell_type": "code",
      "execution_count": null,
      "metadata": {
        "id": "rRGXkXRmzawO"
      },
      "outputs": [],
      "source": [
        "#\n",
        "if<condiçao>\n",
        " <bloco de codigo>\n",
        "<instruçao>"
      ]
    },
    {
      "cell_type": "markdown",
      "source": [
        "ou\n"
      ],
      "metadata": {
        "id": "K24Oc3Om0QMu"
      }
    },
    {
      "cell_type": "code",
      "source": [
        "#\n",
        "if<condiçao>:\n",
        " <bloco de codigo>\n",
        "elif <condiçao>:\n",
        "   <bloco de codigo>\n",
        "elif <condiçao2>:\n",
        "  <bloco de codigo2>\n",
        "else:\n",
        "  <ultimo bloco >\n",
        "<instruçao>\n",
        "\n",
        "\n"
      ],
      "metadata": {
        "id": "1VpF9Sjw1MAH"
      },
      "execution_count": null,
      "outputs": []
    },
    {
      "cell_type": "markdown",
      "source": [
        "codigo\n"
      ],
      "metadata": {
        "id": "WmUOs91C2BUF"
      }
    },
    {
      "cell_type": "code",
      "source": [
        "tem=eval(input(\"digite a temperatura\"))\n",
        "if tem>=40:\n",
        "  print(\"esta muito calor\")\n",
        "elif tem>30:\n",
        "  print(\"Esta agradavel\")\n",
        "else:\n",
        "  print(\"esta muito frio\")"
      ],
      "metadata": {
        "colab": {
          "base_uri": "https://localhost:8080/"
        },
        "id": "Xej9mVY02Hzv",
        "outputId": "ddd43c4f-7d8d-440d-dde1-250054cfd156"
      },
      "execution_count": 3,
      "outputs": [
        {
          "output_type": "stream",
          "name": "stdout",
          "text": [
            "digite a temperatura20\n",
            "esta muito frio\n"
          ]
        }
      ]
    }
  ]
}