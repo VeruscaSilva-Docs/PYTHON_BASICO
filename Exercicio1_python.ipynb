{
  "nbformat": 4,
  "nbformat_minor": 0,
  "metadata": {
    "colab": {
      "provenance": [],
      "authorship_tag": "ABX9TyNiCT1ivI1O78TfawRdjG6f",
      "include_colab_link": true
    },
    "kernelspec": {
      "name": "python3",
      "display_name": "Python 3"
    },
    "language_info": {
      "name": "python"
    }
  },
  "cells": [
    {
      "cell_type": "markdown",
      "metadata": {
        "id": "view-in-github",
        "colab_type": "text"
      },
      "source": [
        "<a href=\"https://colab.research.google.com/github/VeruscaSilva-Docs/PYTHON_BASICO/blob/main/Exercicio1_python.ipynb\" target=\"_parent\"><img src=\"https://colab.research.google.com/assets/colab-badge.svg\" alt=\"Open In Colab\"/></a>"
      ]
    },
    {
      "cell_type": "markdown",
      "source": [
        "**Calcule a soma dos numeros do 10 ao 14**"
      ],
      "metadata": {
        "id": "hJCJZuYsqROH"
      }
    },
    {
      "cell_type": "code",
      "source": [
        "soma=sum([10,14])\n",
        "soma"
      ],
      "metadata": {
        "colab": {
          "base_uri": "https://localhost:8080/"
        },
        "id": "KW7SkHYZtZMS",
        "outputId": "72a7dcae-ecb2-42a7-f945-8acc69a25a25"
      },
      "execution_count": 4,
      "outputs": [
        {
          "output_type": "execute_result",
          "data": {
            "text/plain": [
              "24"
            ]
          },
          "metadata": {},
          "execution_count": 4
        }
      ]
    },
    {
      "cell_type": "markdown",
      "source": [
        "**Calcule a média entre os numeros 10,15,20**"
      ],
      "metadata": {
        "id": "y3eNc1E7qai_"
      }
    },
    {
      "cell_type": "code",
      "source": [
        "numero1=10\n",
        "numero2=15\n",
        "numero3=20\n",
        "\n",
        "media=(numero1+numero2+numero3/2)\n",
        "media"
      ],
      "metadata": {
        "colab": {
          "base_uri": "https://localhost:8080/"
        },
        "id": "pVEePy1itYl8",
        "outputId": "52890826-6899-470d-ee11-cf15347090b2"
      },
      "execution_count": 6,
      "outputs": [
        {
          "output_type": "execute_result",
          "data": {
            "text/plain": [
              "35.0"
            ]
          },
          "metadata": {},
          "execution_count": 6
        }
      ]
    },
    {
      "cell_type": "markdown",
      "source": [
        "**Peça para o usuário digitar duas notas de zero a dez eos pasos das notas e**\n",
        "\n",
        "**calcule a édia ponderada entre elas**\n",
        "\n",
        "**Exemplo: media(nota1*peso1+nota2*peso2)/(peso1+peso2)**\n",
        "\n",
        "**Lembrando que a soma dos pesos precisa ser dez.**"
      ],
      "metadata": {
        "id": "y9OYo12eqyb-"
      }
    },
    {
      "cell_type": "code",
      "source": [],
      "metadata": {
        "id": "Tzn3rvWFroiJ"
      },
      "execution_count": null,
      "outputs": []
    },
    {
      "cell_type": "code",
      "source": [],
      "metadata": {
        "id": "ShKYsIsisojW"
      },
      "execution_count": null,
      "outputs": []
    },
    {
      "cell_type": "markdown",
      "source": [
        "**Qual o menor preço dessa lista?**\n",
        "**preços:R$100.20,R$34.90,R$31.51,R$18.95**"
      ],
      "metadata": {
        "id": "s8suYLRaspRd"
      }
    },
    {
      "cell_type": "code",
      "source": [],
      "metadata": {
        "id": "7Eld7tgatMHN"
      },
      "execution_count": null,
      "outputs": []
    }
  ]
}