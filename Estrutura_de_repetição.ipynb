{
  "nbformat": 4,
  "nbformat_minor": 0,
  "metadata": {
    "colab": {
      "provenance": [],
      "authorship_tag": "ABX9TyNi3azkIoSFlcLnjKKp5u90",
      "include_colab_link": true
    },
    "kernelspec": {
      "name": "python3",
      "display_name": "Python 3"
    },
    "language_info": {
      "name": "python"
    }
  },
  "cells": [
    {
      "cell_type": "markdown",
      "metadata": {
        "id": "view-in-github",
        "colab_type": "text"
      },
      "source": [
        "<a href=\"https://colab.research.google.com/github/VeruscaSilva-Docs/PYTHON_BASICO/blob/main/Estrutura_de_repeti%C3%A7%C3%A3o.ipynb\" target=\"_parent\"><img src=\"https://colab.research.google.com/assets/colab-badge.svg\" alt=\"Open In Colab\"/></a>"
      ]
    },
    {
      "cell_type": "markdown",
      "source": [
        "LAÇOS WHILE"
      ],
      "metadata": {
        "id": "eoAZyUIK0idi"
      }
    },
    {
      "cell_type": "markdown",
      "source": [
        "Estrutura"
      ],
      "metadata": {
        "id": "v3FlPAR40tkr"
      }
    },
    {
      "cell_type": "code",
      "source": [
        "#while condição:\n",
        "  #comandos1\n",
        "  #comandos 2"
      ],
      "metadata": {
        "id": "QxEVeLVM0raL"
      },
      "execution_count": null,
      "outputs": []
    },
    {
      "cell_type": "code",
      "source": [
        "numero =0\n",
        "while numero < 10:\n",
        "  print(numero)\n",
        "  numero += 1\n"
      ],
      "metadata": {
        "colab": {
          "base_uri": "https://localhost:8080/"
        },
        "id": "LOct01Ff1C6M",
        "outputId": "c44dfba1-3d9f-400d-a4d4-fdc4b8a05bbb"
      },
      "execution_count": 9,
      "outputs": [
        {
          "output_type": "stream",
          "name": "stdout",
          "text": [
            "0\n",
            "1\n",
            "2\n",
            "3\n",
            "4\n",
            "5\n",
            "6\n",
            "7\n",
            "8\n",
            "9\n"
          ]
        }
      ]
    },
    {
      "cell_type": "code",
      "source": [
        "numero_max=eval(input(\"digite um numero:\"))\n",
        "numero =0\n",
        "while numero < numero_max:\n",
        "  print(numero)\n",
        "  numero += 1"
      ],
      "metadata": {
        "colab": {
          "base_uri": "https://localhost:8080/"
        },
        "id": "KxnGAGNJ2ZMH",
        "outputId": "1dacd793-3e76-41b9-ffb1-ed212e3d9daf"
      },
      "execution_count": 7,
      "outputs": [
        {
          "output_type": "stream",
          "name": "stdout",
          "text": [
            "digite um numero:8\n",
            "0\n",
            "1\n",
            "2\n",
            "3\n",
            "4\n",
            "5\n",
            "6\n",
            "7\n"
          ]
        }
      ]
    },
    {
      "cell_type": "markdown",
      "source": [
        "LAÇO FOR"
      ],
      "metadata": {
        "id": "6rzdXt1l3LUD"
      }
    },
    {
      "cell_type": "markdown",
      "source": [
        "Estrutura:"
      ],
      "metadata": {
        "id": "nClS8Jvk3QLb"
      }
    },
    {
      "cell_type": "code",
      "source": [
        "#for variave in itens:\n",
        "#comando1\n",
        "#comando2\n",
        "#comando3"
      ],
      "metadata": {
        "id": "5zBhBY9Y3Ti9"
      },
      "execution_count": null,
      "outputs": []
    },
    {
      "cell_type": "code",
      "source": [
        "for dia in [\"Segunda, terça, quarta, quinta, sexta\"]:\n",
        "  print(dia)"
      ],
      "metadata": {
        "colab": {
          "base_uri": "https://localhost:8080/"
        },
        "id": "5tifSIln3fzi",
        "outputId": "2ac30417-98d3-4107-9527-a8184b5e4bb8"
      },
      "execution_count": 10,
      "outputs": [
        {
          "output_type": "stream",
          "name": "stdout",
          "text": [
            "Segunda, terça, quarta, quinta, sexta\n"
          ]
        }
      ]
    },
    {
      "cell_type": "code",
      "source": [
        "for  numero in[0,1,2,3,4]:\n",
        "  print(numero)"
      ],
      "metadata": {
        "colab": {
          "base_uri": "https://localhost:8080/"
        },
        "id": "m7vgTmfC4DL5",
        "outputId": "2a2a9ff7-eeb6-45a1-d5b7-aec8cb1b27fa"
      },
      "execution_count": 11,
      "outputs": [
        {
          "output_type": "stream",
          "name": "stdout",
          "text": [
            "0\n",
            "1\n",
            "2\n",
            "3\n",
            "4\n"
          ]
        }
      ]
    },
    {
      "cell_type": "code",
      "source": [
        "for  numero in[0,1,2,3,4]:\n",
        "  print(numero,end=\" \")"
      ],
      "metadata": {
        "colab": {
          "base_uri": "https://localhost:8080/"
        },
        "id": "lmENnOgz4RCW",
        "outputId": "8e6d958d-27cd-4298-c967-a0fef1f333e3"
      },
      "execution_count": 18,
      "outputs": [
        {
          "output_type": "stream",
          "name": "stdout",
          "text": [
            "0 1 2 3 4 "
          ]
        }
      ]
    },
    {
      "cell_type": "code",
      "source": [
        "for  numero in range(7):\n",
        "  print(numero,end=\" \")"
      ],
      "metadata": {
        "colab": {
          "base_uri": "https://localhost:8080/"
        },
        "id": "L2YzgEl94YU8",
        "outputId": "fb8e07a3-1a9a-40bb-8012-7e5e9afe7603"
      },
      "execution_count": 19,
      "outputs": [
        {
          "output_type": "stream",
          "name": "stdout",
          "text": [
            "0 1 2 3 4 5 6 "
          ]
        }
      ]
    },
    {
      "cell_type": "code",
      "source": [
        "for  numero in range(5,20):\n",
        "  print(numero)"
      ],
      "metadata": {
        "colab": {
          "base_uri": "https://localhost:8080/"
        },
        "id": "p-jzNKnN4pdO",
        "outputId": "54708b13-434d-44b1-dd4c-88726437c8b6"
      },
      "execution_count": 15,
      "outputs": [
        {
          "output_type": "stream",
          "name": "stdout",
          "text": [
            "5\n",
            "6\n",
            "7\n",
            "8\n",
            "9\n",
            "10\n",
            "11\n",
            "12\n",
            "13\n",
            "14\n",
            "15\n",
            "16\n",
            "17\n",
            "18\n",
            "19\n"
          ]
        }
      ]
    },
    {
      "cell_type": "code",
      "source": [
        "for  numero in range(5,20,5):\n",
        "   print(numero,end=\" \")"
      ],
      "metadata": {
        "colab": {
          "base_uri": "https://localhost:8080/"
        },
        "id": "ZFZB9SCG46Gk",
        "outputId": "573218ed-c104-45f9-e584-edb700328803"
      },
      "execution_count": 17,
      "outputs": [
        {
          "output_type": "stream",
          "name": "stdout",
          "text": [
            "5 10 15 "
          ]
        }
      ]
    }
  ]
}